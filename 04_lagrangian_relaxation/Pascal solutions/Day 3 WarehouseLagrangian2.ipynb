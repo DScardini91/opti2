{
 "cells": [
  {
   "cell_type": "markdown",
   "metadata": {},
   "source": [
    "# Warehouse Problem - Lagrangian relaxation\n",
    "\n",
    "Consider the MIP formulation:\n",
    "\n",
    "\\begin{align*}\n",
    "\\min &\\qquad \\sum_w c_w x_w + \\sum_{w ,c} t_{w,c} y_{w,c} & \\\\\n",
    "\\text{subject to:} &&\\\\\n",
    "&y_{w,c} \\leq x_w & \\forall w,c \\\\\n",
    "&\\sum_w y_{w,c} = 1 & \\forall c \\\\\n",
    "&\\sum_c y_{w,c} \\leq C_w  & \\forall w \\\\\n",
    "&x_w, y_{w,c}, z_c \\in \\mathbb{B} & \\forall w,c\n",
    "\\end{align*}"
   ]
  },
  {
   "cell_type": "code",
   "execution_count": 1,
   "metadata": {},
   "outputs": [],
   "source": [
    "fixed = 30  # c_w (all the costs are the same)\n",
    "M = 10*fixed  # the penalty\n",
    "capacity = [1,4,2,1,3]  # the capacity of a warehouse\n",
    "supplyCost = [[20,24,11,25,30],  # t_{w,c}\n",
    "              [28,27,82,83,74],\n",
    "              [74,97,71,96,70],\n",
    "              [2,55,73,69,61],\n",
    "              [46,96,59,83,4],\n",
    "              [42,22,29,67,59],\n",
    "              [1,5,73,59,56],\n",
    "              [10,73,13,43,96],\n",
    "              [93,35,63,85,46],\n",
    "              [47,65,55,71,95]]\n",
    "nbStores = len(supplyCost)\n",
    "nbWarehouses = len(capacity)\n",
    "Stores = range(nbStores)\n",
    "Warehouses = range(nbWarehouses)\n",
    "UB = nbWarehouses * fixed + sum(max(supplyCost[s][w] for w in Warehouses) for s in Stores)"
   ]
  },
  {
   "cell_type": "markdown",
   "metadata": {},
   "source": [
    "### Excercices\n",
    "\n",
    "#### 1. Find the lagrangian relaxation formulation where the constraints 3 are relaxed.\n",
    "\n",
    "\\begin{align*}\n",
    "\\max_{\\lambda_c} ~ \\min \\qquad \\sum_w c_w x_w +& \\sum_{w ,c} t_{w,c} y_{w,c} + \\sum_c \\lambda_c (1 - \\sum_w y_{w,c}) & \\\\\n",
    "\\text{subject to:} \\\\\n",
    "y_{w,c} \\leq x_w && \\forall w,c \\\\\n",
    "\\sum_w y_{w,c} = 1 & & \\forall c \\\\\n",
    "\\sum_c y_{w,c} \\leq C_w  & \\forall w \\\\\n",
    "x_w, y_{w,c}, z_c \\in \\mathbb{B} && \\forall w,c\n",
    "\\end{align*}\n",
    "\n",
    "#### 2. Implement the lagrangian relaxation."
   ]
  },
  {
   "cell_type": "code",
   "execution_count": 2,
   "metadata": {},
   "outputs": [],
   "source": [
    "from docplex.mp.model import Model\n",
    "\n",
    "def lagrangian_relaxation(rlambda=[fixed]*nbStores):\n",
    "    mdl = Model(name='Lagrangian')\n",
    "    x = mdl.binary_var_list(nbWarehouses,name='open')\n",
    "    y = mdl.binary_var_matrix(nbStores, nbWarehouses, name='supplier')\n",
    "    \n",
    "    for w in Warehouses:\n",
    "        for s in Stores:\n",
    "            mdl.add_constraint(y[s,w] <= x[w], 'supply_%d_%d' % (s, w))\n",
    "    for w in Warehouses:\n",
    "        mdl.add_constraint(sum(y[s,w] for s in Stores) <= capacity[w] * x[w], 'open_%d' % w)\n",
    "    \n",
    "    mdl.minimize(fixed * sum(x) + sum(supplyCost[s][w] * y[s,w]  for s in Stores for w in Warehouses)\n",
    "                 + sum(rlambda[s] * (1 - sum(y[s,w] for w in Warehouses)) for s in Stores))\n",
    "    \n",
    "    \n",
    "    #             \n",
    "   \n",
    "    msol = mdl.solve()\n",
    "    relaxation = [max(0,(1 - sum(y[s,w].solution_value for w in Warehouses))) for s in Stores]\n",
    "    \n",
    "    return (mdl.objective_value,  # the objective value\n",
    "            msol, # solution\n",
    "            relaxation)  # slack of the relaxed constraints"
   ]
  },
  {
   "cell_type": "markdown",
   "metadata": {},
   "source": [
    "#### Try the function"
   ]
  },
  {
   "cell_type": "code",
   "execution_count": 3,
   "metadata": {},
   "outputs": [
    {
     "name": "stdout",
     "output_type": "stream",
     "text": [
      "solution for: Lagrangian\n",
      "objective: 282\n",
      "open_1=1\n",
      "open_2=1\n",
      "supplier_0_1=1\n",
      "supplier_0_2=1\n",
      "supplier_1_1=1\n",
      "supplier_5_1=1\n",
      "supplier_6_1=1\n",
      "supplier_7_2=1\n",
      " [0, 0, 1, 1, 1, 0, 0, 0, 1, 1]\n"
     ]
    }
   ],
   "source": [
    "obj, msol, relaxed = lagrangian_relaxation()\n",
    "print(msol, relaxed)"
   ]
  },
  {
   "cell_type": "markdown",
   "metadata": {},
   "source": [
    "#### 3. Find a feasible solution\n",
    "\n",
    "Update the lagrangian coefficients until you get a feasible solution.\n",
    "While you haven't obtained a feasible solution, do:\n",
    "1. Compute the lagrangian relaxation\n",
    "2. Check if feasible. If yes, stop.\n",
    "3. Update the lagrangian coeeficients (use the gradient of the lagrangian relaxation)."
   ]
  },
  {
   "cell_type": "code",
   "execution_count": 7,
   "metadata": {},
   "outputs": [
    {
     "name": "stdout",
     "output_type": "stream",
     "text": [
      "iteration=0, obj=282.00, n violations=5\n",
      "iteration=1, obj=292.00, n violations=5\n",
      "iteration=2, obj=300.00, n violations=4\n",
      "iteration=3, obj=306.00, n violations=3\n",
      "iteration=4, obj=312.00, n violations=3\n",
      "iteration=5, obj=316.00, n violations=3\n",
      "iteration=6, obj=322.00, n violations=3\n",
      "iteration=7, obj=326.00, n violations=3\n",
      "iteration=8, obj=331.00, n violations=2\n",
      "iteration=9, obj=335.00, n violations=2\n",
      "iteration=10, obj=339.00, n violations=2\n",
      "iteration=11, obj=343.00, n violations=2\n",
      "iteration=12, obj=347.00, n violations=2\n",
      "iteration=13, obj=351.00, n violations=2\n",
      "iteration=14, obj=355.00, n violations=2\n",
      "iteration=15, obj=359.00, n violations=2\n",
      "iteration=16, obj=363.00, n violations=2\n",
      "iteration=17, obj=367.00, n violations=2\n",
      "iteration=18, obj=371.00, n violations=2\n",
      "iteration=19, obj=375.00, n violations=2\n",
      "iteration=20, obj=379.00, n violations=2\n",
      "iteration=21, obj=381.00, n violations=1\n",
      "iteration=22, obj=381.00, n violations=1\n",
      "iteration=23, obj=381.00, n violations=2\n",
      "iteration=24, obj=379.00, n violations=2\n",
      "iteration=25, obj=380.00, n violations=1\n",
      "iteration=26, obj=381.00, n violations=1\n",
      "iteration=27, obj=381.00, n violations=1\n",
      "iteration=28, obj=381.00, n violations=1\n",
      "iteration=29, obj=382.00, n violations=1\n",
      "iteration=30, obj=383.00, n violations=1\n",
      "iteration=31, obj=383.00, n violations=1\n",
      "iteration=32, obj=383.00, n violations=0\n"
     ]
    }
   ],
   "source": [
    "rlambda = [fixed]*nbStores\n",
    "fsol = None\n",
    "iteration = 0\n",
    "step = 2.0 \n",
    "LB = 0\n",
    "\n",
    "while True:\n",
    "\n",
    "    # 1. Compute the lagrangian relaxation\n",
    "    obj, fsol, relaxation = lagrangian_relaxation(rlambda)\n",
    "    if obj > LB:\n",
    "        LB = obj\n",
    "\n",
    "        # 2. Check if feasible: all slack should be null\n",
    "    n_violations = sum(int(abs(s)) for s in relaxation)\n",
    "    \n",
    "    print('iteration={:d}, obj={:.2f}, n violations={:d}'.format(iteration, obj, n_violations))\n",
    "    if n_violations == 0:\n",
    "        break\n",
    "    iteration+= 1\n",
    "    \n",
    "#    nv2 = sum(int(abs(s)*abs(s)) for s in relaxation)\n",
    "#   step = 0.001 * (bestFeasibleValue - obj) / nv2\n",
    "#    print('step: ' + str(step))\n",
    " \n",
    "# 3. Update the lagrangian\n",
    "    for i, s in enumerate(relaxation):\n",
    "        rlambda[i] += s * step\n",
    "        if rlambda[i] < 0:\n",
    "            rlambda[i] = 0\n",
    "        \n",
    "\n",
    "#print('========================')\n",
    "#print(fsol)"
   ]
  },
  {
   "cell_type": "code",
   "execution_count": null,
   "metadata": {},
   "outputs": [],
   "source": []
  },
  {
   "cell_type": "code",
   "execution_count": null,
   "metadata": {},
   "outputs": [],
   "source": []
  },
  {
   "cell_type": "code",
   "execution_count": null,
   "metadata": {},
   "outputs": [],
   "source": []
  }
 ],
 "metadata": {
  "kernelspec": {
   "display_name": "Python 3",
   "language": "python",
   "name": "python3"
  },
  "language_info": {
   "codemirror_mode": {
    "name": "ipython",
    "version": 3
   },
   "file_extension": ".py",
   "mimetype": "text/x-python",
   "name": "python",
   "nbconvert_exporter": "python",
   "pygments_lexer": "ipython3",
   "version": "3.7.7"
  }
 },
 "nbformat": 4,
 "nbformat_minor": 2
}
