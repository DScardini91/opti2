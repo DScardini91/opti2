{
 "cells": [
  {
   "cell_type": "markdown",
   "metadata": {},
   "source": [
    "# Warehouse Problem - Lagrangian relaxation\n",
    "\n",
    "Let's recall the MIP formulation:\n",
    "\n",
    "\\begin{align*}\n",
    "\\min &\\qquad \\sum_w c_w x_w + \\sum_{w ,c} t_{w,c} y_{w,c}  & \\\\\n",
    "\\text{subject to:} &&\\\\\n",
    "&y_{w,c} \\leq x_w & \\forall w,c \\\\\n",
    "&\\sum_w y_{w,c} = 1 & \\forall c \\\\\n",
    "&\\sum_c y_{w,c} \\leq C_w  x_w & \\forall w \\\\\n",
    "&x_w, y_{w,c}, z_c \\in \\mathbb{B} & \\forall w,c\n",
    "\\end{align*}"
   ]
  },
  {
   "cell_type": "code",
   "execution_count": null,
   "metadata": {},
   "outputs": [],
   "source": [
    "fixed = 30  # c_w (all the costs are the same)\n",
    "M = 10*fixed  # the penalty\n",
    "capacity = [1,4,2,1,3]  # the capacity of a warehouse\n",
    "supplyCost = [[20,24,11,25,30],  # t_{w,c}\n",
    "              [28,27,82,83,74],\n",
    "              [74,97,71,96,70],\n",
    "              [2,55,73,69,61],\n",
    "              [46,96,59,83,4],\n",
    "              [42,22,29,67,59],\n",
    "              [1,5,73,59,56],\n",
    "              [10,73,13,43,96],\n",
    "              [93,35,63,85,46],\n",
    "              [47,65,55,71,95]]\n",
    "nbStores = len(supplyCost)\n",
    "nbWarehouses = len(capacity)\n",
    "Stores = range(nbStores)\n",
    "Warehouses = range(nbWarehouses)"
   ]
  },
  {
   "cell_type": "markdown",
   "metadata": {},
   "source": [
    "### Excercices\n",
    "\n",
    "#### 1. Find the lagrangian relaxation formulation where the constraints 2 are relaxed.\n",
    "\n",
    "#### 2. Implement the lagrangian relaxation."
   ]
  },
  {
   "cell_type": "code",
   "execution_count": null,
   "metadata": {},
   "outputs": [],
   "source": [
    "from docplex.mp.model import Model\n",
    "\n",
    "def lagrangian_relaxation(rlambda=[1]*nbStores):\n",
    "    mdl = Model(name='lagrangian')\n",
    "\n",
    "    \n",
    "    \n",
    "    \n",
    "    \n",
    "    return (mdl.objective_value,  # the objective value\n",
    "            msol, # solution\n",
    "            relaxed_constraints)  # violations of the relaxed constraints"
   ]
  },
  {
   "cell_type": "markdown",
   "metadata": {},
   "source": [
    "#### Try the function"
   ]
  },
  {
   "cell_type": "code",
   "execution_count": null,
   "metadata": {},
   "outputs": [],
   "source": [
    "obj, msol, relaxed = lagrangian_relaxation([fixed]*nbStores)\n",
    "print(msol, relaxed)"
   ]
  },
  {
   "cell_type": "markdown",
   "metadata": {},
   "source": [
    "#### 3. Implement the Subgradient Method\n",
    "\n"
   ]
  },
  {
   "cell_type": "code",
   "execution_count": null,
   "metadata": {},
   "outputs": [],
   "source": [
    "rlambda = [fixed]*nbStores\n",
    "fsol = None\n",
    "iteration = 0\n",
    "step = 1 \n",
    "LB = 0\n",
    "bestFeasibleValue = UB\n",
    "bestFeasible = 0\n",
    "\n",
    "while True:\n",
    "\n",
    "    # 1. Compute the lagrangian relaxation\n",
    "\n",
    "    # 2. Check if feasible: no constrained violations\n",
    "    \n",
    "    # 3. Update the lagrangian\n",
    "\n",
    "print('========================')\n",
    "print('Lagrangian dual: ' + str(UB))\n",
    "if bestFeasible != 0:\n",
    "    print('-- best feasible --')\n",
    "    print(bestFeasible)"
   ]
  },
  {
   "cell_type": "code",
   "execution_count": null,
   "metadata": {},
   "outputs": [],
   "source": []
  }
 ],
 "metadata": {
  "kernelspec": {
   "display_name": "Python CP",
   "language": "python",
   "name": "docplex"
  },
  "language_info": {
   "codemirror_mode": {
    "name": "ipython",
    "version": 3
   },
   "file_extension": ".py",
   "mimetype": "text/x-python",
   "name": "python",
   "nbconvert_exporter": "python",
   "pygments_lexer": "ipython3",
   "version": "3.7.5"
  }
 },
 "nbformat": 4,
 "nbformat_minor": 2
}
