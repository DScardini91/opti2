{
 "cells": [
  {
   "cell_type": "markdown",
   "metadata": {},
   "source": [
    "# Warehouse Problem\n",
    "\n",
    "We will implement the model studied during the course.\n",
    "\n",
    "\\begin{align*}\n",
    "\\min &\\qquad \\sum_w c_w x_w + \\sum_{w ,c} t_{w,c} y_{w,c} & \\\\\n",
    "\\text{subject to:} &&\\\\\n",
    "&y_{w,c} \\leq x_w & \\forall w,c \\\\\n",
    "&\\sum_w y_{w,c} = 1 & \\forall c \\\\\n",
    "&\\sum_{c} y_{w,c} \\leq C_w x_w & \\forall w \\\\\n",
    "&x_w, y_{w,c} \\in \\mathbb{B} & \\forall w,c\n",
    "\\end{align*}\n"
   ]
  },
  {
   "cell_type": "code",
   "execution_count": 5,
   "metadata": {},
   "outputs": [],
   "source": [
    "fixed = 30  # c_w (all the costs are the same)\n",
    "M = 10*fixed  # the penalty\n",
    "capacity = [1,4,2,1,3]  # the capacity of a warehouse\n",
    "supplyCost = [[20,24,11,25,30],  # t_{w,c}\n",
    "              [28,27,82,83,74],\n",
    "              [74,97,71,96,70],\n",
    "              [2,55,73,69,61],\n",
    "              [46,96,59,83,4],\n",
    "              [42,22,29,67,59],\n",
    "              [1,5,73,59,56],\n",
    "              [10,73,13,43,96],\n",
    "              [93,35,63,85,46],\n",
    "              [47,65,55,71,95]]\n",
    "\n",
    "\n",
    "nbStores = len(supplyCost)\n",
    "nbWarehouses = len(capacity)\n",
    "Stores = range(nbStores)\n",
    "Warehouses = range(nbWarehouses)"
   ]
  },
  {
   "cell_type": "markdown",
   "metadata": {},
   "source": [
    "### Exercices\n",
    "\n",
    "#### 1. Modify the model to add: a capacity on the number of clients for the warehouses and a penalty if a client is not served\n",
    "\n",
    "\n",
    "#### 2. Implement the model"
   ]
  },
  {
   "cell_type": "markdown",
   "metadata": {},
   "source": [
    "## Adding the capacity constraint\n",
    "\n",
    "\\begin{align*}\n",
    "\\min &\\qquad \\sum_w f_w x_w + \\sum_{w, c} t_{w,c} y_{w,c} + M \\sum_c z_c & \\\\\n",
    "\\text{subject to:} &&\\\\\n",
    "&y_{w,c} \\leq x_w & \\forall w, c \\\\\n",
    "&\\sum_w y_{w,c} + z_c = 1 & \\forall c \\\\\n",
    "&\\sum_{c} y_{w,c} \\leq \\text{capacity}_w \\cdot x_w & \\forall w \\\\\n",
    "&x_w, y_{w,c}, z_c \\in \\{0, 1\\} & \\forall w, c\n",
    "\\end{align*}\n",
    "\n"
   ]
  },
  {
   "cell_type": "code",
   "execution_count": 6,
   "metadata": {},
   "outputs": [
    {
     "name": "stdout",
     "output_type": "stream",
     "text": [
      "Objective value:  383.0\n",
      "\n",
      "Warehouses to be opened:\n",
      " - Warehouse 0 is open with capacity 1\n",
      " - Warehouse 1 is open with capacity 4\n",
      " - Warehouse 2 is open with capacity 2\n",
      " - Warehouse 4 is open with capacity 3\n",
      "\n",
      "Store assignments:\n",
      "Store 0 is served by Warehouse(s): [4]\n",
      "Store 1 is served by Warehouse(s): [1]\n",
      "Store 2 is served by Warehouse(s): [4]\n",
      "Store 3 is served by Warehouse(s): [0]\n",
      "Store 4 is served by Warehouse(s): [4]\n",
      "Store 5 is served by Warehouse(s): [1]\n",
      "Store 6 is served by Warehouse(s): [1]\n",
      "Store 7 is served by Warehouse(s): [2]\n",
      "Store 8 is served by Warehouse(s): [1]\n",
      "Store 9 is served by Warehouse(s): [2]\n"
     ]
    }
   ],
   "source": [
    "from docplex.mp.model import Model\n",
    "\n",
    "# Create a model\n",
    "model = Model(name='warehouse')\n",
    "\n",
    "# Decision variables\n",
    "x = model.binary_var_list(nbWarehouses, name='open')  # x[w] = 1 if warehouse w is open\n",
    "y = model.binary_var_matrix(nbStores, nbWarehouses, name='supplier')  # y[s, w] = 1 if store s is served by warehouse w\n",
    "z = model.binary_var_list(nbStores, name='not_served')  # z[s] = 1 if store s is not served\n",
    "\n",
    "# Objective function: minimize total cost (opening + transportation + penalty)\n",
    "model.minimize(\n",
    "    model.sum(fixed_cost * x[w] for w in range(nbWarehouses)) +  # fixed cost for opening warehouses\n",
    "    model.sum(supplyCost[s][w] * y[s, w] for s in range(nbStores) for w in range(nbWarehouses)) +  # transportation cost\n",
    "    M * model.sum(z[s] for s in range(nbStores))  # penalty for unserved customers\n",
    ")\n",
    "\n",
    "# Constraints: if a warehouse is not open, it cannot supply any store\n",
    "for w in range(nbWarehouses):\n",
    "    for s in range(nbStores):\n",
    "        model.add_constraint(y[s, w] <= x[w], f'supply_{s}_{w}')  # If warehouse w is closed, it cannot serve any store\n",
    "\n",
    "# Constraints: each store must be served by one warehouse or marked as unserved\n",
    "for s in range(nbStores):\n",
    "    model.add_constraint(model.sum(y[s, w] for w in range(nbWarehouses)) + z[s] == 1, f'store_{s}')  # Each store must be served or unserved\n",
    "\n",
    "# Constraints: each warehouse cannot serve more stores than its capacity\n",
    "for w in range(nbWarehouses):\n",
    "    model.add_constraint(model.sum(y[s, w] for s in range(nbStores)) <= capacity[w] * x[w], f'capacity_{w}')  # Respect warehouse capacity\n",
    "\n"
   ]
  },
  {
   "cell_type": "code",
   "execution_count": 7,
   "metadata": {},
   "outputs": [
    {
     "name": "stdout",
     "output_type": "stream",
     "text": [
      "Objective value:  383.0\n",
      "\n",
      "Warehouses to be opened:\n",
      " - Warehouse 0 is open with capacity 1\n",
      " - Warehouse 1 is open with capacity 4\n",
      " - Warehouse 2 is open with capacity 2\n",
      " - Warehouse 4 is open with capacity 3\n",
      "\n",
      "Store assignments:\n",
      "Store 0 is served by Warehouse(s): [4]\n",
      "Store 1 is served by Warehouse(s): [1]\n",
      "Store 2 is served by Warehouse(s): [4]\n",
      "Store 3 is served by Warehouse(s): [0]\n",
      "Store 4 is served by Warehouse(s): [4]\n",
      "Store 5 is served by Warehouse(s): [1]\n",
      "Store 6 is served by Warehouse(s): [1]\n",
      "Store 7 is served by Warehouse(s): [2]\n",
      "Store 8 is served by Warehouse(s): [1]\n",
      "Store 9 is served by Warehouse(s): [2]\n"
     ]
    }
   ],
   "source": [
    "# Solve the model\n",
    "solution = model.solve()\n",
    "\n",
    "# Print the solution\n",
    "if solution:\n",
    "    print(\"Objective value: \", model.objective_value)\n",
    "    \n",
    "    print(\"\\nWarehouses to be opened:\")\n",
    "    for w in range(nbWarehouses):\n",
    "        if x[w].solution_value > 0.5:  # Warehouse is open\n",
    "            print(f\" - Warehouse {w} is open with capacity {capacity[w]}\")\n",
    "    \n",
    "    print(\"\\nStore assignments:\")\n",
    "    for s in range(nbStores):\n",
    "        assigned = [w for w in range(nbWarehouses) if y[s, w].solution_value > 0.5]\n",
    "        if assigned:\n",
    "            print(f\"Store {s} is served by Warehouse(s): {assigned}\")\n",
    "        else:\n",
    "            print(f\"Store {s} is not served (penalty applied)\")\n",
    "else:\n",
    "    print(\"No feasible solution found.\")"
   ]
  },
  {
   "cell_type": "code",
   "execution_count": 8,
   "metadata": {},
   "outputs": [
    {
     "name": "stdout",
     "output_type": "stream",
     "text": [
      "Total capacity of open warehouses: 10\n"
     ]
    }
   ],
   "source": [
    "# Calculate total capacity of open warehouses\n",
    "total_capacity_open = sum(capacity[w] for w in range(nbWarehouses) if x[w].solution_value > 0.5)\n",
    "\n",
    "print(f\"Total capacity of open warehouses: {total_capacity_open}\")"
   ]
  }
 ],
 "metadata": {
  "kernelspec": {
   "display_name": "Python 3 (ipykernel)",
   "language": "python",
   "name": "python3"
  },
  "language_info": {
   "codemirror_mode": {
    "name": "ipython",
    "version": 3
   },
   "file_extension": ".py",
   "mimetype": "text/x-python",
   "name": "python",
   "nbconvert_exporter": "python",
   "pygments_lexer": "ipython3",
   "version": "3.9.13"
  }
 },
 "nbformat": 4,
 "nbformat_minor": 4
}
