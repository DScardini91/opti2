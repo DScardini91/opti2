{
 "cells": [
  {
   "cell_type": "markdown",
   "metadata": {},
   "source": [
    "# Warehouse Problem\n",
    "\n",
    "We will implement the model studied during the course.\n",
    "\n",
    "\\begin{align*}\n",
    "\\min &\\qquad \\sum_w c_w x_w + \\sum_{w ,c} t_{w,c} y_{w,c} & \\\\\n",
    "\\text{subject to:} &&\\\\\n",
    "&y_{w,c} \\leq x_w & \\forall w,c \\\\\n",
    "&\\sum_w y_{w,c} = 1 & \\forall c \\\\\n",
    "&x_w, y_{w,c} \\in \\mathbb{B} & \\forall w,c\n",
    "\\end{align*}"
   ]
  },
  {
   "cell_type": "code",
   "execution_count": 14,
   "metadata": {},
   "outputs": [],
   "source": [
    "fixed = 30  # c_w (all the costs are the same)\n",
    "M = 10*fixed  # the penalty\n",
    "capacity = [1,4,2,1,3]  # the capacity of a warehouse\n",
    "supplyCost = [[20,24,11,25,30],  # t_{w,c}\n",
    "              [28,27,82,83,74],\n",
    "              [74,97,71,96,70],\n",
    "              [2,55,73,69,61],\n",
    "              [46,96,59,83,4],\n",
    "              [42,22,29,67,59],\n",
    "              [1,5,73,59,56],\n",
    "              [10,73,13,43,96],\n",
    "              [93,35,63,85,46],\n",
    "              [47,65,55,71,95]]\n",
    "\n",
    "\n",
    "nbStores = len(supplyCost)\n",
    "nbWarehouses = len(capacity)\n",
    "Stores = range(nbStores)\n",
    "Warehouses = range(nbWarehouses)"
   ]
  },
  {
   "cell_type": "markdown",
   "metadata": {},
   "source": [
    "### Exercices\n",
    "\n",
    "#### 1. Modify the model to add: a capacity on the number of clients for the warehouses and a penalty if a client is not served\n",
    "\n",
    "\n",
    "#### 2. Implement the model"
   ]
  },
  {
   "cell_type": "markdown",
   "metadata": {},
   "source": [
    "## Adding the capacity constraint\n",
    "\n",
    "\\begin{align*}\n",
    "\\min &\\qquad \\sum_w f_w x_w + \\sum_{w, c} t_{w,c} y_{w,c} + M \\sum_c z_c & \\\\\n",
    "\\text{subject to:} &&\\\\\n",
    "&y_{w,c} \\leq x_w & \\forall w, c \\\\\n",
    "&\\sum_w y_{w,c} + z_c = 1 & \\forall c \\\\\n",
    "&\\sum_{c} y_{w,c} \\leq \\text{capacity}_w \\cdot x_w & \\forall w \\\\\n",
    "&x_w, y_{w,c}, z_c \\in \\{0, 1\\} & \\forall w, c\n",
    "\\end{align*}\n",
    "\n"
   ]
  },
  {
   "cell_type": "code",
   "execution_count": 15,
   "metadata": {},
   "outputs": [],
   "source": [
    "from docplex.mp.model import Model\n",
    "\n",
    "model = Model(name='warehouse')\n",
    "\n",
    "# Decision variables\n",
    "x = {w: model.binary_var(name=f'x_{w}') for w in Warehouses}  # 1 if warehouse w is open\n",
    "y = {(w, s): model.binary_var(name=f'y_{w}_{s}') for w in Warehouses for s in Stores}  # 1 if customer s is served by warehouse w\n",
    "z = {s: model.binary_var(name=f'z_{s}') for s in Stores}  # 1 if customer s is not served\n",
    "\n",
    "# Objective function: minimize total cost (opening + transportation + penalty)\n",
    "model.minimize(\n",
    "    model.sum(M * x[w] for w in Warehouses) +  # fixed cost for opening warehouses\n",
    "    model.sum(supplyCost[s][w] * y[(w, s)] for w in Warehouses for s in Stores) +  # transportation cost\n",
    "    M * model.sum(z[s] for s in Stores)  # penalty for unserved customers\n",
    ")\n",
    "\n",
    "# Constraint: a customer can only be served by an open warehouse\n",
    "for w in Warehouses:\n",
    "    for s in Stores:\n",
    "        model.add_constraint(y[(w, s)] <= x[w])\n",
    "\n",
    "# Constraint: each customer must be served by exactly one warehouse or not served at all\n",
    "for s in Stores:\n",
    "    model.add_constraint(model.sum(y[(w, s)] for w in Warehouses) + z[s] == 1)\n",
    "\n",
    "# Capacity constraint: the total number of customers assigned to a warehouse cannot exceed its capacity\n",
    "for w in Warehouses:\n",
    "    model.add_constraint(model.sum(y[(w, s)] for s in Stores) <= capacity[w] * x[w])\n"
   ]
  },
  {
   "cell_type": "code",
   "execution_count": 16,
   "metadata": {},
   "outputs": [
    {
     "name": "stdout",
     "output_type": "stream",
     "text": [
      "========================================\n",
      "Objective Function Value: 1448.00\n",
      "========================================\n",
      "\n",
      "Warehouses to be opened:\n",
      " - Warehouse 1 (Capacity: 4)\n",
      " - Warehouse 2 (Capacity: 2)\n",
      " - Warehouse 4 (Capacity: 3)\n",
      "\n",
      "Customers assigned to warehouses:\n",
      "Customer 0 is served by Warehouse 2\n",
      "Customer 1 is served by Warehouse 1\n",
      "Customer 2 is served by Warehouse 4\n",
      "Customer 3 is served by Warehouse 4\n",
      "Customer 4 is served by Warehouse 4\n",
      "Customer 5 is served by Warehouse 1\n",
      "Customer 6 is served by Warehouse 1\n",
      "Customer 7 is served by Warehouse 2\n",
      "Customer 8 is served by Warehouse 1\n",
      "\n",
      "Unserved customers (penalty applied):\n",
      "Customer 9\n",
      "========================================\n"
     ]
    }
   ],
   "source": [
    "# Solve the problem\n",
    "solution = model.solve()\n",
    "# Check the solution status and print the results handsomely\n",
    "if solution:\n",
    "    print(\"=\" * 40)\n",
    "    print(f\"Objective Function Value: {model.objective_value:.2f}\")\n",
    "    print(\"=\" * 40)\n",
    "\n",
    "    print(\"\\nWarehouses to be opened:\")\n",
    "    for w in Warehouses:\n",
    "        if x[w].solution_value > 0.5:\n",
    "            print(f\" - Warehouse {w} (Capacity: {capacity[w]})\")\n",
    "\n",
    "    print(\"\\nCustomers assigned to warehouses:\")\n",
    "    for s in Stores:\n",
    "        for w in Warehouses:\n",
    "            if y[(w, s)].solution_value > 0.5:\n",
    "                print(f\"Customer {s} is served by Warehouse {w}\")\n",
    "\n",
    "    unserved_customers = [s for s in Stores if z[s].solution_value > 0.5]\n",
    "    if unserved_customers:\n",
    "        print(\"\\nUnserved customers (penalty applied):\")\n",
    "        for s in unserved_customers:\n",
    "            print(f\"Customer {s}\")\n",
    "    else:\n",
    "        print(\"\\nAll customers are served!\")\n",
    "\n",
    "    print(\"=\" * 40)\n",
    "else:\n",
    "    print(\"No feasible solution found.\")"
   ]
  }
 ],
 "metadata": {
  "kernelspec": {
   "display_name": "Python 3 (ipykernel)",
   "language": "python",
   "name": "python3"
  },
  "language_info": {
   "codemirror_mode": {
    "name": "ipython",
    "version": 3
   },
   "file_extension": ".py",
   "mimetype": "text/x-python",
   "name": "python",
   "nbconvert_exporter": "python",
   "pygments_lexer": "ipython3",
   "version": "3.9.13"
  }
 },
 "nbformat": 4,
 "nbformat_minor": 4
}
