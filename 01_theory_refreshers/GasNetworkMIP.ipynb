{
 "cells": [
  {
   "cell_type": "markdown",
   "metadata": {},
   "source": [
    "# Gas Network Problem\n",
    "\n",
    "There is a network of nodes where some gas is either produced or consumed. The goal of the problem is to find the best way to transport the gas from the production nodes to the consumption nodes.\n",
    "\n",
    "You have to decide whether a pipeline is constructed between two nodes or not. A pipeline has a capacity and a cost to be opened (i.e, constructed). Once the pipeline is opened, you also have a cost for each unit of gas that is transported through this pipeline. Finally, there is a penalty for each unit of produced gas which is not consumed.\n",
    "\n",
    "#### You want to minimize the total cost."
   ]
  },
  {
   "cell_type": "code",
   "execution_count": null,
   "metadata": {},
   "outputs": [
    {
     "ename": "",
     "evalue": "",
     "output_type": "error",
     "traceback": [
      "\u001b[1;31mRunning cells with 'docplex (Python 3.7.16)' requires the ipykernel package.\n",
      "\u001b[1;31mRun the following command to install 'ipykernel' into the Python environment. \n",
      "\u001b[1;31mCommand: 'conda install -n docplex ipykernel --update-deps --force-reinstall'"
     ]
    }
   ],
   "source": [
    "# consumption (demand)\n",
    "d = [ 0, 50, 95, 10, 73, 55, 125, 32, 40, 20 ]\n",
    "# production (maximum generation)\n",
    "#gmax = [ 500, 0, 0, 500, 0, 0, 500, 0, 0, 0 ]\n",
    "gmax = [ 500, 0, 0, 0, 0, 0, 0, 0, 0, 0 ]\n",
    "N = len(d)\n",
    "NODES = range(size)\n",
    "print('generation - demand? (%d): %d' % (N, sum(gmax) - sum(d)))"
   ]
  },
  {
   "cell_type": "code",
   "execution_count": null,
   "metadata": {},
   "outputs": [],
   "source": [
    "# capacity of the arcs\n",
    "ca = [ [10, 20, 30, 40, 50, 60, 70, 80, 90, 100],\n",
    "       [20, 30, 40, 50, 60, 70, 80, 90, 100, 10],\n",
    "       [30, 40, 50, 60, 70, 80, 90, 100, 10, 20],\n",
    "       [40, 50, 60, 70, 80, 90, 100, 10, 20, 30],\n",
    "       [50, 60, 70, 80, 90, 100, 10, 20, 30, 40],\n",
    "       [60, 70, 80, 90, 100, 10, 20, 30, 40, 50],\n",
    "       [70, 80, 90, 100, 10, 20, 30, 40, 50, 60],\n",
    "       [80, 90, 100, 10, 20, 30, 40, 50, 60, 70],\n",
    "       [90, 100, 10, 20, 30, 40, 50, 60, 70, 80],\n",
    "       [100, 10, 20, 30, 40, 50, 60, 70, 80, 90]\n",
    "     ]\n",
    "\n",
    "# linear variable cost: the cost of transporting one unit of gas\n",
    "vc = 1\n",
    "\n",
    "# unsatisfied demand: penalty for each unit of gas which is not consumed or produced\n",
    "p = 100\n",
    "\n",
    "# linear fixed cost: the cost of opening an arc is proportional to its capacity\n",
    "fc = [ [10 * c for c in row] for row in ca]\n"
   ]
  },
  {
   "cell_type": "markdown",
   "metadata": {},
   "source": [
    "### Exercices\n",
    "#### 1. Find the formulation of the problem\n",
    "\n",
    "#### 2. Implement the model"
   ]
  },
  {
   "cell_type": "code",
   "execution_count": 4,
   "metadata": {},
   "outputs": [],
   "source": [
    "from docplex.mp.model import Model\n",
    "mdl = Model(name='gas network')\n",
    "\n"
   ]
  }
 ],
 "metadata": {
  "kernelspec": {
   "display_name": "Python 3",
   "language": "python",
   "name": "python3"
  },
  "language_info": {
   "codemirror_mode": {
    "name": "ipython",
    "version": 3
   },
   "file_extension": ".py",
   "mimetype": "text/x-python",
   "name": "python",
   "nbconvert_exporter": "python",
   "pygments_lexer": "ipython3",
   "version": "3.7.16"
  }
 },
 "nbformat": 4,
 "nbformat_minor": 2
}
