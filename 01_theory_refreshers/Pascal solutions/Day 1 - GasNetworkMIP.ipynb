{
 "cells": [
  {
   "cell_type": "markdown",
   "metadata": {},
   "source": [
    "# Gas Network Problem\n",
    "\n",
    "There is a network of nodes where some gas is either produced or consumed. The goal of the problem is to find the best way to transport the gas from the production nodes to the consumption nodes.\n",
    "\n",
    "You have to decide whether a pipeline is constructed between two nodes or not. A pipeline has a capacity and a cost to be opened (i.e, constructed). Once the pipeline is opened, you also have a cost for each unit of gas that is transported through this pipeline. Finally, there is a penalty for each unit of produced gas which is not consumed.\n",
    "\n",
    "#### You want to minimize the total cost."
   ]
  },
  {
   "cell_type": "code",
   "execution_count": 4,
   "metadata": {},
   "outputs": [
    {
     "name": "stdout",
     "output_type": "stream",
     "text": [
      "generation - demand? (10): 1000\n"
     ]
    }
   ],
   "source": [
    "# consumption (demand)\n",
    "d = [ 0, 50, 95, 10, 73, 55, 125, 32, 40, 20 ]\n",
    "# production (maximum generation)\n",
    "gmax = [ 500, 0, 0, 500, 0, 0, 500, 0, 0, 0 ]\n",
    "#gmax = [ 500, 0, 0, 0, 0, 0, 0, 0, 0, 0 ]\n",
    "N = len(d)\n",
    "NODES = range(N)\n",
    "print('generation - demand? (%d): %d' % (N, sum(gmax) - sum(d)))"
   ]
  },
  {
   "cell_type": "code",
   "execution_count": 5,
   "metadata": {},
   "outputs": [],
   "source": [
    "# capacity of the arcs\n",
    "ca = [ [10, 20, 30, 40, 50, 60, 70, 80, 90, 100],\n",
    "       [20, 30, 40, 50, 60, 70, 80, 90, 100, 10],\n",
    "       [30, 40, 50, 60, 70, 80, 90, 100, 10, 20],\n",
    "       [40, 50, 60, 70, 80, 90, 100, 10, 20, 30],\n",
    "       [50, 60, 70, 80, 90, 100, 10, 20, 30, 40],\n",
    "       [60, 70, 80, 90, 100, 10, 20, 30, 40, 50],\n",
    "       [70, 80, 90, 100, 10, 20, 30, 40, 50, 60],\n",
    "       [80, 90, 100, 10, 20, 30, 40, 50, 60, 70],\n",
    "       [90, 100, 10, 20, 30, 40, 50, 60, 70, 80],\n",
    "       [100, 10, 20, 30, 40, 50, 60, 70, 80, 90]\n",
    "     ]\n",
    "\n",
    "# linear variable cost: the cost of transporting one unit of gas\n",
    "vc = 1\n",
    "\n",
    "# unsatisfied demand: penalty for each unit of gas which is not consumed or produced\n",
    "p = 100\n",
    "\n",
    "# linear fixed cost: the cost of opening an arc is proportional to its capacity\n",
    "fc = [ [10 * c for c in row] for row in ca]\n",
    "\n"
   ]
  },
  {
   "cell_type": "code",
   "execution_count": null,
   "metadata": {},
   "outputs": [],
   "source": []
  },
  {
   "cell_type": "markdown",
   "metadata": {},
   "source": [
    "### Exercices\n",
    "#### 1. Find the formulation of the problem\n",
    "\n",
    "Here is the formulation\n",
    "\n",
    "|           |              |\n",
    "| ----------|:-------------|\n",
    "| $d_i$  |  gas demand at node $i$  |\n",
    "| $gmax_i$ | maximum gas production at node $i$ |\n",
    "| $vc$  | cost of transporting one unit of gas through a pipeline  |\n",
    "| $fc_{ij}$  | cost of opening pipeline $(i,j)$  |\n",
    "| $ca_{i,j}$  |  capacity of pipeline $(i,j)$  |\n",
    "| $p$  | penalty for each unit of gas which is not consumed or produced  |\n",
    "| $g_i$ | gas produced at node $i$ |\n",
    "| $x_{i,j}$  | volume of gas going through pipeline $(i,j)$  |\n",
    "| $y_{ij}$  | bynary decision, =1 if pipeline $(i,j)$ is open, 0 otherwise  |\n",
    "| $z_i$  | demand which is not fulfilled at node $i$ |\n",
    "\n",
    "\\begin{align*}\n",
    "\\min & \\sum_{i,j} vc*x_{i,j} + \\sum_{i,j} fc_{i,j}*y_{i,j} + \\sum_i p*z_i & \\\\\n",
    "\\text{subject to:} && \\\\\n",
    "& \\sum_j x_{j,i} + g_i = \\sum_j x_{j,i} + d_i - z_i & \\forall i \\\\\n",
    "& x_{i,j} \\leq ca_{i,j} * y_{i,j} & \\forall i,j \\\\\n",
    "& g_i \\leq gmax_i & \\forall i \\\\\n",
    "& g_i, x_{i,j}, z_i \\geq 0 & \\forall i,j \n",
    "& y_{i,j} \\in \\mathbb{B}\n",
    "\\end{align*}\n",
    "\n",
    "#### 2. Implement the model"
   ]
  },
  {
   "cell_type": "code",
   "execution_count": 6,
   "metadata": {},
   "outputs": [
    {
     "name": "stdout",
     "output_type": "stream",
     "text": [
      "solution for: gas network\n",
      "objective: 104470\n",
      "x_0_2=30.000\n",
      "x_0_5=55.000\n",
      "x_3_1=50.000\n",
      "x_3_2=60.000\n",
      "x_3_4=73.000\n",
      "x_3_9=20.000\n",
      "x_6_7=32.000\n",
      "x_6_8=45.000\n",
      "x_8_2=5.000\n",
      "g_0=85.000\n",
      "g_3=213.000\n",
      "g_6=202.000\n",
      "y_0_2=1\n",
      "y_0_5=1\n",
      "y_3_1=1\n",
      "y_3_2=1\n",
      "y_3_4=1\n",
      "y_3_9=1\n",
      "y_6_7=1\n",
      "y_6_8=1\n",
      "y_8_2=1\n",
      "\n"
     ]
    }
   ],
   "source": [
    "from docplex.mp.model import Model\n",
    "mdl = Model(name='gas network')\n",
    "\n",
    "x = mdl.continuous_var_matrix(N,N,lb=0,name='x')\n",
    "g = mdl.continuous_var_list(N,lb=0,ub=gmax,name='g')\n",
    "z = mdl.continuous_var_list(N,lb=0,name='z')\n",
    "y = mdl.binary_var_matrix(N,N,name='y')\n",
    "\n",
    "for i in NODES:\n",
    "    for j in NODES:\n",
    "        mdl.add_constraint(x[i,j] <= ca[i][j] * y[i,j])\n",
    "for i in NODES:\n",
    "    mdl.add_constraint(sum(x[j,i] for j in NODES) + g[i] == sum(x[i,j] for j in NODES) + d[i] - z[i],'flow_%d' % i)\n",
    "\n",
    "mdl.minimize(sum(vc * x[i,j] for i in NODES for j in NODES) + \n",
    "             sum(fc[i][j] * y[i,j] for i in NODES for j in NODES) +\n",
    "             sum(p * z[i] for i in NODES) + sum(p * (gmax[i] - g[i]) for i in NODES))\n",
    "msol = mdl.solve()\n",
    "print(msol)\n"
   ]
  },
  {
   "cell_type": "code",
   "execution_count": 7,
   "metadata": {},
   "outputs": [
    {
     "name": "stdout",
     "output_type": "stream",
     "text": [
      "Cost: 104470.00\n",
      "Flow from 0 to 2: 30.00 / 30\n",
      "Flow from 0 to 5: 55.00 / 60\n",
      "Flow from 3 to 1: 50.00 / 50\n",
      "Flow from 3 to 2: 60.00 / 60\n",
      "Flow from 3 to 4: 73.00 / 80\n",
      "Flow from 3 to 9: 20.00 / 30\n",
      "Flow from 6 to 7: 32.00 / 40\n",
      "Flow from 6 to 8: 45.00 / 50\n",
      "Flow from 8 to 2: 5.00 / 10\n"
     ]
    }
   ],
   "source": [
    "print('Cost: %.2f' % mdl.objective_value)\n",
    "for i in NODES:\n",
    "    if z[i].solution_value > 0:\n",
    "        print('Demand not met for %d: %.2f' &(i, z[i].solution_value))\n",
    "for i in NODES:\n",
    "    for j in NODES:\n",
    "        if x[i,j].solution_value > 0:\n",
    "            print('Flow from %d to %d: %.2f / %d' %(i, j, x[i,j].solution_value, ca[i][j]))"
   ]
  },
  {
   "cell_type": "code",
   "execution_count": null,
   "metadata": {},
   "outputs": [],
   "source": []
  },
  {
   "cell_type": "code",
   "execution_count": null,
   "metadata": {},
   "outputs": [],
   "source": []
  }
 ],
 "metadata": {
  "kernelspec": {
   "display_name": "Python 3",
   "language": "python",
   "name": "python3"
  },
  "language_info": {
   "codemirror_mode": {
    "name": "ipython",
    "version": 3
   },
   "file_extension": ".py",
   "mimetype": "text/x-python",
   "name": "python",
   "nbconvert_exporter": "python",
   "pygments_lexer": "ipython3",
   "version": "3.7.7"
  }
 },
 "nbformat": 4,
 "nbformat_minor": 2
}
