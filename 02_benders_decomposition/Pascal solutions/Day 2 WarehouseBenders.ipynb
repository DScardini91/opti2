{
 "cells": [
  {
   "cell_type": "markdown",
   "metadata": {},
   "source": [
    "# Warehouse Problem - Benders\n",
    "\n",
    "Let's recall the formulations.\n",
    "\n",
    "The MIP model is:\n",
    "\n",
    "\\begin{align*}\n",
    "\\min &\\qquad \\sum_w c_w x_w + \\sum_{w ,c} t_{w,c} y_{w,c} + \\sum_c M z_c & \\\\\n",
    "\\text{subject to:} &&\\\\\n",
    "&y_{w,c} \\leq x_w & \\forall w,c \\\\\n",
    "&\\sum_w y_{w,c} + z_c = 1 & \\forall c \\\\\n",
    "&\\sum_c y_{w,c} \\leq C_w  x_w & \\forall w \\\\\n",
    "&x_w, y_{w,c}, z_c \\in \\mathbb{B} & \\forall w,c\n",
    "\\end{align*}"
   ]
  },
  {
   "cell_type": "markdown",
   "metadata": {},
   "source": [
    "The Benders decomposition is:\n",
    "\n",
    "#### Master:\n",
    "\n",
    "\\begin{align*}\n",
    "\\min &\\qquad \\sum_w c_w x_w + \\theta & \\\\\n",
    "\\text{subject to:} && \\\\\n",
    "&\\theta \\geq \\sum_w (C_w \\gamma^n_w + \\sum_c \\alpha^n_{w,c}) x_w + \\sum_c \\beta^n_c & \\forall n \\\\\n",
    "&x_w \\in \\mathbb{B} & \\forall w,c \\\\\n",
    "&\\theta \\geq 0 &\n",
    "\\end{align*}\n",
    "\n",
    "#### Subproblem:\n",
    "\n",
    "\\begin{align*}\n",
    "\\min & \\qquad \\sum_{w ,c} t_{w,c} y_{w,c} + \\sum_c M z_c & \\\\\n",
    "\\text{subject to:} && \\\\\n",
    "&y_{w,c} \\leq x^n_w & \\forall w,c \\quad (\\alpha_{w,c}) \\\\\n",
    "&\\sum_w y_{w,c} + z_c = 1 & \\forall c \\quad (\\beta_c) \\\\\n",
    "&\\sum_c y_{w,c} \\leq C_w  x^n_w & \\forall w \\quad (\\gamma_w) \\\\\n",
    "&y_{w,c}, z_c \\geq 0 & \\forall w,c\n",
    "\\end{align*}"
   ]
  },
  {
   "cell_type": "code",
   "execution_count": 1,
   "metadata": {},
   "outputs": [],
   "source": [
    "fixed = 30  # c_w (all the costs are the same)\n",
    "M = 10*fixed  # the penalty\n",
    "capacity = [1,4,2,1,3]  # the capacity of a warehouse\n",
    "supplyCost = [[20,24,11,25,30],  # t_{w,c}\n",
    "              [28,27,82,83,74],\n",
    "              [74,97,71,96,70],\n",
    "              [2,55,73,69,61],\n",
    "              [46,96,59,83,4],\n",
    "              [42,22,29,67,59],\n",
    "              [1,5,73,59,56],\n",
    "              [10,73,13,43,96],\n",
    "              [93,35,63,85,46],\n",
    "              [47,65,55,71,95]]\n",
    "nbStores = len(supplyCost)\n",
    "nbWarehouses = len(capacity)\n",
    "Stores = range(nbStores)\n",
    "Warehouses = range(nbWarehouses)"
   ]
  },
  {
   "cell_type": "markdown",
   "metadata": {},
   "source": [
    "### Excercices\n",
    "\n",
    "#### 1. Implement the subproblem."
   ]
  },
  {
   "cell_type": "code",
   "execution_count": 2,
   "metadata": {},
   "outputs": [],
   "source": [
    "from docplex.mp.model import Model\n",
    "\n",
    "def benders_subproblem(x_sol):\n",
    "   \n",
    "    mdl = Model(name='sub_problem')\n",
    "    y = mdl.continuous_var_matrix(nbStores, nbWarehouses, name='supplier')\n",
    "    z = mdl.continuous_var_list(nbStores, name='not_served')\n",
    "\n",
    "    # collect constraints\n",
    "    \n",
    "    supplies = [ [ 0 for s in Stores] for w in Warehouses]\n",
    "    stores = [ 0 for s in Stores ]\n",
    "    opens = [ 0 for w in Warehouses]\n",
    "    \n",
    "    # state the constraints\n",
    "\n",
    "    for w in Warehouses:\n",
    "        for s in Stores:\n",
    "            supplies[w][s] = mdl.add_constraint(y[s,w] <= x_sol[w], 'supply_%d_%d' % (s, w))\n",
    "            \n",
    "    for s in Stores:\n",
    "        stores[s] = mdl.add_constraint(sum(y[s,w] for w in Warehouses) + z[s] >= 1, 'store_%d' % s)\n",
    "        \n",
    "    for w in Warehouses:\n",
    "        opens[w] = mdl.add_constraint(sum(y[s,w] for s in Stores) <= capacity[w] * x_sol[w], 'open_%d' % w) \n",
    "        \n",
    "    mdl.minimize(M * sum(z) + sum(supplyCost[s][w] * y[s,w]  for s in Stores for w in Warehouses))\n",
    "   \n",
    "    msol = mdl.solve()\n",
    "    \n",
    "    # duals of the second set of constraints\n",
    "    const = sum(stores[s].dual_value for s in Stores)\n",
    "    \n",
    "    # duals of the first and third sets of constraints\n",
    "    coeffs = [sum(supplies[w][s].dual_value for s in Stores) + capacity[w] * opens[w].dual_value for w in Warehouses]\n",
    "    return (mdl.objective_value,  # the objective value\n",
    "            const,  # the constant part of the benders' cut\n",
    "            coeffs)  # the coefficients of the benders' cut"
   ]
  },
  {
   "cell_type": "markdown",
   "metadata": {},
   "source": [
    "#### Try the function"
   ]
  },
  {
   "cell_type": "code",
   "execution_count": 3,
   "metadata": {},
   "outputs": [
    {
     "data": {
      "text/plain": [
       "(3000.0, 3000.0, [-2637.0, -2501.0, -2471.0, -2319.0, -2409.0])"
      ]
     },
     "execution_count": 3,
     "metadata": {},
     "output_type": "execute_result"
    }
   ],
   "source": [
    "benders_subproblem([0]*nbWarehouses)"
   ]
  },
  {
   "cell_type": "markdown",
   "metadata": {},
   "source": [
    "#### 2. Implement the master problem\n",
    "\n",
    "Create a master problem without any cut and solve it."
   ]
  },
  {
   "cell_type": "code",
   "execution_count": 4,
   "metadata": {},
   "outputs": [
    {
     "name": "stdout",
     "output_type": "stream",
     "text": [
      "Solution cost: 0.00\n"
     ]
    }
   ],
   "source": [
    "m_mdl = Model(name='master')\n",
    "\n",
    "x = m_mdl.binary_var_list(nbWarehouses, name='open')\n",
    "theta = m_mdl.continuous_var(lb=0, name='theta')\n",
    "m_mdl.minimize(fixed * sum(x) + theta)\n",
    "m_mdl.solve()\n",
    "print('Solution cost: %.2f' % m_mdl.objective_value)"
   ]
  },
  {
   "cell_type": "markdown",
   "metadata": {},
   "source": [
    "#### Then, create the resolution loop that will:\n",
    "1. Solve the master problem\n",
    "2. Solve the sub-problem with a solution\n",
    "3. Add the benders' cut to the master problem"
   ]
  },
  {
   "cell_type": "code",
   "execution_count": 7,
   "metadata": {},
   "outputs": [
    {
     "name": "stdout",
     "output_type": "stream",
     "text": [
      "Iter=0; LB=0.00; UB=3000.00\n",
      "Iter=1; LB=60.00; UB=1640.00\n",
      "Iter=2; LB=60.00; UB=1682.00\n",
      "Iter=3; LB=60.00; UB=1983.00\n",
      "Iter=4; LB=60.00; UB=1373.00\n",
      "Iter=5; LB=60.00; UB=1144.00\n",
      "Iter=6; LB=90.00; UB=1172.00\n",
      "Iter=7; LB=90.00; UB=1463.00\n",
      "Iter=8; LB=90.00; UB=638.00\n",
      "Iter=9; LB=90.00; UB=917.00\n",
      "Iter=10; LB=90.00; UB=884.00\n",
      "Iter=11; LB=90.00; UB=1958.00\n",
      "Iter=12; LB=90.00; UB=1105.00\n",
      "Iter=13; LB=90.00; UB=1413.00\n",
      "Iter=14; LB=90.00; UB=1406.00\n",
      "Iter=15; LB=120.00; UB=437.00\n",
      "Iter=16; LB=313.00; UB=904.00\n",
      "Iter=17; LB=315.00; UB=383.00\n",
      "Iter=18; LB=383.00; UB=383.00\n",
      "========================================\n",
      "Warehouse 0 is open.\n",
      "Warehouse 1 is open.\n",
      "Warehouse 2 is open.\n",
      "Warehouse 4 is open.\n"
     ]
    }
   ],
   "source": [
    "# build the master\n",
    "master = Model(name='master')\n",
    "x = master.binary_var_list(nbWarehouses, name='open')\n",
    "# to bound the objective of the subproblem\n",
    "theta = master.continuous_var(lb=0, name='theta')\n",
    "master.minimize(fixed * sum(x) + theta)\n",
    "\n",
    "iteration = 0\n",
    "LB = 0\n",
    "UB = M * nbStores\n",
    "\n",
    "while True:    \n",
    "    # 1. Solve the master\n",
    "    master.solve()\n",
    "    LB = master.objective_value\n",
    "    \n",
    "    # 2. Solve the subproblem\n",
    "    x_sol = [x[w].solution_value for w in Warehouses]\n",
    "    sub_objective_value, const, coeffs = benders_subproblem(x_sol)\n",
    "\n",
    "    # UB = min(UB, ub + fixed * sum(x_sol))\n",
    "    UB = fixed * sum(x_sol) + sub_objective_value\n",
    "    print('Iter=%d; LB=%.2f; UB=%.2f' %(iteration, LB, UB))\n",
    "    \n",
    "    # check if you have guess theta correctly\n",
    "    if abs(LB - UB) < 1e-5:\n",
    "        break\n",
    "    \n",
    "    # 3. Add the benders' cut to the master problem\n",
    "    master.add_constraint(theta >= const + sum(coeffs[w] * x[w] for w in Warehouses),'bender_cut_%d' % iteration)\n",
    "    iteration += 1\n",
    "\n",
    "print(''.join(['=']*40))\n",
    "for w in [w for w in Warehouses if x[w].solution_value > 0]:\n",
    "    print('Warehouse %d is open.' % w)"
   ]
  },
  {
   "cell_type": "code",
   "execution_count": null,
   "metadata": {},
   "outputs": [],
   "source": []
  }
 ],
 "metadata": {
  "kernelspec": {
   "display_name": "Python 3",
   "language": "python",
   "name": "python3"
  },
  "language_info": {
   "codemirror_mode": {
    "name": "ipython",
    "version": 3
   },
   "file_extension": ".py",
   "mimetype": "text/x-python",
   "name": "python",
   "nbconvert_exporter": "python",
   "pygments_lexer": "ipython3",
   "version": "3.7.7"
  }
 },
 "nbformat": 4,
 "nbformat_minor": 2
}
