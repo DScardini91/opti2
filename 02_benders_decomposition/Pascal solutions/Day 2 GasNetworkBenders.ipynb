{
 "cells": [
  {
   "cell_type": "markdown",
   "metadata": {},
   "source": [
    "# Gas Network Problem\n",
    "\n",
    "There is a network of nodes where some gas is either produced or consumed. The goal of the problem is to find the best way to transport the gas from the production nodes to the consumption nodes.\n",
    "\n",
    "You have to decide whether a pipeline is constructed between two nodes or not. A pipeline has a capacity and a cost to be opened (i.e, constructed). Once the pipeline is opened, you also have a cost for each unit of gas that is transported through this pipeline. Finally, there is a penalty for each unit of produced gas which is not consumed.\n",
    "\n",
    "#### You want to minimize the total cost."
   ]
  },
  {
   "cell_type": "code",
   "execution_count": 1,
   "metadata": {},
   "outputs": [
    {
     "name": "stdout",
     "output_type": "stream",
     "text": [
      "generation - demand? (10): 0\n"
     ]
    }
   ],
   "source": [
    "# consumption (demand)\n",
    "d = [ 0, 50, 95, 10, 73, 55, 125, 32, 40, 20 ]\n",
    "# production (maximum generation)\n",
    "#gmax = [ 500, 0, 0, 500, 0, 0, 500, 0, 0, 0 ]\n",
    "gmax = [ 500, 0, 0, 0, 0, 0, 0, 0, 0, 0 ]\n",
    "N = len(d)\n",
    "NODES = range(N)\n",
    "print('generation - demand? (%d): %d' % (N, sum(gmax) - sum(d)))"
   ]
  },
  {
   "cell_type": "code",
   "execution_count": 2,
   "metadata": {},
   "outputs": [],
   "source": [
    "# capacity of the arcs\n",
    "ca = [ [10, 20, 30, 40, 50, 60, 70, 80, 90, 100],\n",
    "       [20, 30, 40, 50, 60, 70, 80, 90, 100, 10],\n",
    "       [30, 40, 50, 60, 70, 80, 90, 100, 10, 20],\n",
    "       [40, 50, 60, 70, 80, 90, 100, 10, 20, 30],\n",
    "       [50, 60, 70, 80, 90, 100, 10, 20, 30, 40],\n",
    "       [60, 70, 80, 90, 100, 10, 20, 30, 40, 50],\n",
    "       [70, 80, 90, 100, 10, 20, 30, 40, 50, 60],\n",
    "       [80, 90, 100, 10, 20, 30, 40, 50, 60, 70],\n",
    "       [90, 100, 10, 20, 30, 40, 50, 60, 70, 80],\n",
    "       [100, 10, 20, 30, 40, 50, 60, 70, 80, 90]\n",
    "     ]\n",
    "\n",
    "# linear variable cost: the cost of transporting one unit of gas\n",
    "vc = 1\n",
    "\n",
    "# unsatisfied demand: penalty for each unit of gas which is not consumed or produced\n",
    "p = 100\n",
    "\n",
    "# linear fixed cost: the cost of opening an arc is proportional to its capacity\n",
    "fc = [ [10 * c for c in row] for row in ca]\n",
    "\n"
   ]
  },
  {
   "cell_type": "markdown",
   "metadata": {},
   "source": [
    "### Here is the MIP formulation\n",
    "\n",
    "|           |              |\n",
    "| ----------|:-------------|\n",
    "| $d_i$  |  gas demand at node $i$  |\n",
    "| $gmax_i$ | maximum gas production at node $i$ |\n",
    "| $vc$  | cost of transporting one unit of gas through a pipeline  |\n",
    "| $fc_{ij}$  | cost of opening pipeline $(i,j)$  |\n",
    "| $ca_{i,j}$  |  capacity of pipeline $(i,j)$  |\n",
    "| $p$  | penalty for each unit of gas which is not consumed or produced  |\n",
    "| $g_i$ | gas produced at node $i$ |\n",
    "| $x_{i,j}$  | volume of gas going through pipeline $(i,j)$  |\n",
    "| $y_{ij}$  | bynary decision, =1 if pipeline $(i,j)$ is open, 0 otherwise  |\n",
    "| $z_i$  | demand which is not fulfilled at node $i$ |\n",
    "\n",
    "\\begin{align*}\n",
    "\\min & \\sum_{i,j} vc*x_{i,j} + \\sum_{i,j} fc_{i,j}*y_{i,j} + \\sum_i p*z_i & \\\\\n",
    "\\text{subject to:} && \\\\\n",
    "& \\sum_j x_{j,i} + g_i = \\sum_j x_{j,i} + d_i - z_i & \\forall i \\\\\n",
    "& x_{i,j} \\leq ca_{i,j} * y_{i,j} & \\forall i,j \\\\\n",
    "& g_i \\leq gmax_i & \\forall i \\\\\n",
    "& g_i, x_{i,j}, z_i \\geq 0 & \\forall i,j \n",
    "& y_{i,j} \\in \\mathbb{B}\n",
    "\\end{align*}\n",
    "\n",
    "#### 2. Formulate the Benders' master problem and sub-problem\n",
    "\n",
    "##### Master:\n",
    "\n",
    "\\begin{align*}\n",
    "\\min & \\sum_{i,j} fc_{i,j}*y_{i,j} + \\theta & \\\\\n",
    "\\text{subject to:} && \\\\\n",
    "& \\theta \\geq \\sum_i d_i * \\alpha^n_i +  \\sum_{i,j} ca_{i,j}*\\beta^n_{i,j}*y_{i,j}  & \\forall i \\\\\n",
    "& y_{i,j} \\in \\mathbb{B} & \\forall i,j \n",
    "\\end{align*}\n",
    "\n",
    "##### Sub-problem:\n",
    "\n",
    "\\begin{align*}\n",
    "\\min & \\sum_{i,j} vc*x_{i,j} + \\sum_i p*z_i & \\\\\n",
    "\\text{subject to:} && \\\\\n",
    "& \\sum_j x_{j,i} + g_i = \\sum_j x_{j,i} + d_i - z_i & (\\alpha^n_i) \\quad \\forall i \\\\\n",
    "& x_{i,j} \\leq ca_{i,j}*y^n_{i,j} & (\\beta^n_{i,j}) \\quad \\forall i,j \\\\\n",
    "& x_{i,j}, z_i \\geq 0 & \\forall i,j \n",
    "\\end{align*}\n",
    "\n",
    "#### 3. Implement the Benders' decompostion\n",
    "\n",
    "#### First, implement the subproblem."
   ]
  },
  {
   "cell_type": "code",
   "execution_count": 3,
   "metadata": {},
   "outputs": [],
   "source": [
    "from docplex.mp.model import Model\n",
    "\n",
    "def benders_subproblem(y):\n",
    "    mdl = Model(name='sub_problem')\n",
    "    x = mdl.continuous_var_matrix(N, N, lb=0, name='x')\n",
    "    g = mdl.continuous_var_list(N,lb=0,ub=gmax,name='g')\n",
    "    z = mdl.continuous_var_list(N, lb=0, name='z')\n",
    "    \n",
    "    flow = [ 0 for i in NODES]\n",
    "    open_arcs = [ [0 for j in NODES] for i in NODES]\n",
    "    \n",
    "    for i in NODES:\n",
    "        flow[i] = mdl.add_constraint(\n",
    "            sum(x[j,i] for j in NODES) + g[i] == sum(x[i,j] for j in NODES) + d[i] - z[i],'flow_%d' % i)\n",
    "    \n",
    "    for i in NODES:\n",
    "        for j in NODES:\n",
    "            open_arcs[i][j] = mdl.add_constraint(\n",
    "                x[i, j] <= ca[i][j] * y[i][j], 'open_arc_%d_%d' %(i,j))\n",
    "\n",
    "    mdl.minimize(vc * sum(x[i, j] for j in NODES for i in NODES) + p * sum(z))\n",
    "    mdl.solve()\n",
    "    \n",
    "    const = sum(d[i] * flow[i].dual_value for i in NODES)\n",
    "    coeffs = [[ca[i][j] * open_arcs[i][j].dual_value for j in NODES] for i in NODES]\n",
    "    \n",
    "    return (mdl.objective_value,  # the objective value\n",
    "            const,  # the constant part of the benders' cut\n",
    "            coeffs)  # the coefficients of the benders' cut"
   ]
  },
  {
   "cell_type": "code",
   "execution_count": 4,
   "metadata": {},
   "outputs": [
    {
     "data": {
      "text/plain": [
       "(50000.0,\n",
       " 50000.0,\n",
       " [[0,\n",
       "   -1980.0,\n",
       "   -2970.0,\n",
       "   -3960.0,\n",
       "   -4950.0,\n",
       "   -5940.0,\n",
       "   -6930.0,\n",
       "   -7920.0,\n",
       "   -8910.0,\n",
       "   -9900.0],\n",
       "  [0, 0, 0, 0, 0, 0, 0, 0, 0, 0],\n",
       "  [0, 0, 0, 0, 0, 0, 0, 0, 0, 0],\n",
       "  [0, 0, 0, 0, 0, 0, 0, 0, 0, 0],\n",
       "  [0, 0, 0, 0, 0, 0, 0, 0, 0, 0],\n",
       "  [0, 0, 0, 0, 0, 0, 0, 0, 0, 0],\n",
       "  [0, 0, 0, 0, 0, 0, 0, 0, 0, 0],\n",
       "  [0, 0, 0, 0, 0, 0, 0, 0, 0, 0],\n",
       "  [0, 0, 0, 0, 0, 0, 0, 0, 0, 0],\n",
       "  [0, 0, 0, 0, 0, 0, 0, 0, 0, 0]])"
      ]
     },
     "execution_count": 4,
     "metadata": {},
     "output_type": "execute_result"
    }
   ],
   "source": [
    "benders_subproblem([[0]*N]*N)"
   ]
  },
  {
   "cell_type": "markdown",
   "metadata": {},
   "source": [
    "#### Second, implement the master problem\n",
    "\n",
    "Create a master problem without any cut and solve it."
   ]
  },
  {
   "cell_type": "code",
   "execution_count": 5,
   "metadata": {},
   "outputs": [
    {
     "name": "stdout",
     "output_type": "stream",
     "text": [
      "Solution cost: 0.00\n"
     ]
    }
   ],
   "source": [
    "master = Model(name='master')\n",
    "y = [ [master.binary_var(name='y_%d_%d' %(i,j)) for j in NODES] for i in NODES]\n",
    "theta = master.continuous_var(lb=0, name='theta')\n",
    "master.minimize(sum(fc[i][j] * y[i][j] for i in NODES for j in NODES) + theta)\n",
    "master.solve()\n",
    "print('Solution cost: %.2f' % master.objective_value)"
   ]
  },
  {
   "cell_type": "markdown",
   "metadata": {},
   "source": [
    "#### Then, create the resolution loop that will:\n",
    "1. Solve the sub-problem with a solution\n",
    "2. Add the benders' cut to the master problem\n",
    "3. Solve the master problem"
   ]
  },
  {
   "cell_type": "code",
   "execution_count": 6,
   "metadata": {},
   "outputs": [
    {
     "name": "stdout",
     "output_type": "stream",
     "text": [
      "Iter=0; LB=0.00; UB=50000.00\n",
      "Iter=1; LB=5100.00; UB=25697.00\n",
      "Iter=2; LB=7200.00; UB=22083.00\n",
      "Iter=3; LB=7200.00; UB=14537.00\n",
      "Iter=4; LB=7200.00; UB=17967.00\n",
      "Iter=5; LB=7300.00; UB=18087.00\n",
      "Iter=6; LB=7300.00; UB=15323.00\n",
      "Iter=7; LB=7400.00; UB=13267.00\n",
      "Iter=8; LB=7500.00; UB=18199.00\n",
      "Iter=9; LB=7500.00; UB=15033.00\n",
      "Iter=10; LB=7500.00; UB=12877.00\n",
      "Iter=11; LB=7600.00; UB=10243.00\n",
      "Iter=12; LB=7700.00; UB=12019.00\n",
      "Iter=13; LB=7800.00; UB=14667.00\n",
      "Iter=14; LB=7800.00; UB=12903.00\n",
      "Iter=15; LB=7800.00; UB=11903.00\n",
      "Iter=16; LB=8000.00; UB=10947.00\n",
      "Iter=17; LB=8000.00; UB=12123.00\n",
      "Iter=18; LB=8000.00; UB=14553.00\n",
      "Iter=19; LB=8000.00; UB=8673.00\n",
      "Iter=20; LB=8273.00; UB=15837.00\n",
      "Iter=21; LB=8473.00; UB=12264.00\n",
      "Iter=22; LB=8573.00; UB=10553.00\n",
      "Iter=23; LB=8573.00; UB=11043.00\n",
      "Iter=24; LB=8573.00; UB=9598.00\n",
      "Iter=25; LB=8573.00; UB=10068.00\n",
      "Iter=26; LB=8573.00; UB=13511.00\n",
      "Iter=27; LB=8573.00; UB=14463.00\n",
      "Iter=28; LB=8573.00; UB=9117.00\n",
      "Iter=29; LB=8593.00; UB=9279.00\n",
      "Iter=30; LB=8673.00; UB=8673.00\n",
      "========================================\n",
      "Arc 0 to 1 is open.\n",
      "Arc 0 to 2 is open.\n",
      "Arc 0 to 3 is open.\n",
      "Arc 0 to 4 is open.\n",
      "Arc 0 to 5 is open.\n",
      "Arc 0 to 6 is open.\n",
      "Arc 0 to 7 is open.\n",
      "Arc 0 to 8 is open.\n",
      "Arc 0 to 9 is open.\n",
      "Arc 3 to 1 is open.\n",
      "Arc 7 to 2 is open.\n",
      "Arc 8 to 4 is open.\n",
      "Arc 9 to 2 is open.\n",
      "Arc 9 to 6 is open.\n"
     ]
    }
   ],
   "source": [
    "master = Model(name='master')\n",
    "y = [ [master.binary_var(name='y_%d_%d' %(i,j)) for j in NODES] for i in NODES]\n",
    "theta = master.continuous_var(lb=0, name='theta')\n",
    "master.minimize(sum(fc[i][j] * y[i][j] for i in NODES for j in NODES) + theta)\n",
    "\n",
    "iteration = 0\n",
    "LB = 0\n",
    "UB = p * sum(abs(d[i]) for i in NODES)\n",
    "\n",
    "while True:\n",
    "    # 1. Solve the master\n",
    "    master.solve()\n",
    "    LB = master.objective_value\n",
    "    \n",
    "    # 2. Solve the subproblem\n",
    "    y_sol = [[y[i][j].solution_value for j in NODES] for i in NODES]\n",
    "    obj, const, coeffs = benders_subproblem(y_sol)\n",
    "\n",
    "    # Update the UB\n",
    "    UB = obj + sum(fc[i][j] * y_sol[i][j] for i in NODES for j in NODES)\n",
    "    print('Iter=%d; LB=%.2f; UB=%.2f' %(iteration, LB, UB))\n",
    "    \n",
    "    # check if you have guess theta correctly\n",
    "    if abs(UB - LB) < 1e-5:\n",
    "        break\n",
    "    \n",
    "    # 3. Add the benders' cut to the master problem\n",
    "    master.add_constraint(theta >= const + sum(coeffs[i][j] * y[i][j] for i in NODES for j in NODES),\n",
    "                         'bender_cut_%d' % iteration)\n",
    "    iteration += 1\n",
    "\n",
    "print(''.join(['=']*40))\n",
    "for p in [(i,j) for i in NODES for j in NODES if y[i][j].solution_value]:\n",
    "    print('Arc %d to %d is open.' % p)"
   ]
  },
  {
   "cell_type": "code",
   "execution_count": null,
   "metadata": {},
   "outputs": [],
   "source": []
  }
 ],
 "metadata": {
  "kernelspec": {
   "display_name": "Python 3",
   "language": "python",
   "name": "python3"
  },
  "language_info": {
   "codemirror_mode": {
    "name": "ipython",
    "version": 3
   },
   "file_extension": ".py",
   "mimetype": "text/x-python",
   "name": "python",
   "nbconvert_exporter": "python",
   "pygments_lexer": "ipython3",
   "version": "3.7.7"
  }
 },
 "nbformat": 4,
 "nbformat_minor": 4
}
