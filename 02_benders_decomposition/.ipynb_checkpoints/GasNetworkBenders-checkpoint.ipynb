{
 "cells": [
  {
   "cell_type": "markdown",
   "metadata": {},
   "source": [
    "# Gas Network Problem - Benders\n",
    "\n",
    "There is a network of nodes where some gas is either produced or consumed. The goal of the problem is to find the best way to transport the gas from the production nodes to the consumption nodes.\n",
    "\n",
    "You have to decide whether a pipeline is constructed between two nodes or not. A pipeline has a capacity and a cost to be opened (i.e, constructed). Once the pipeline is opened, you also have a cost for each unit of gas that is transported through this pipeline. Finally, there is a penalty for each unit of produced gas which is not consumed.\n",
    "\n",
    "#### You want to minimize the total cost.\n",
    "\n",
    "Here is the MIP formulation\n",
    "\n",
    "|           |              |\n",
    "| ----------|:-------------|\n",
    "| $d_i$  |  gas demand at node $i$  |\n",
    "| $gmax_i$ | maximum gas production at node $i$ |\n",
    "| $vc$  | cost of transporting one unit of gas through a pipeline  |\n",
    "| $fc_{ij}$  | cost of opening pipeline $(i,j)$  |\n",
    "| $ca_{i,j}$  |  capacity of pipeline $(i,j)$  |\n",
    "| $p$  | penalty for each unit of gas which is not consumed or produced  |\n",
    "| $g_i$ | gas produced at node $i$ |\n",
    "| $x_{i,j}$  | volume of gas going through pipeline $(i,j)$  |\n",
    "| $y_{ij}$  | bynary decision, =1 if pipeline $(i,j)$ is open, 0 otherwise  |\n",
    "| $z_i$  | demand which is not fulfilled at node $i$ |\n",
    "\n",
    "\\begin{align*}\n",
    "\\min & \\sum_{i,j} vc*x_{i,j} + \\sum_{i,j} fc_{i,j}*y_{i,j} + \\sum_i p*z_i & \\\\\n",
    "\\text{subject to:} && \\\\\n",
    "& \\sum_j x_{j,i} + g_i = \\sum_j x_{j,i} + d_i - z_i & \\forall i \\\\\n",
    "& x_{i,j} \\leq ca_{i,j} * y_{i,j} & \\forall i,j \\\\\n",
    "& g_i \\leq gmax_i & \\forall i \\\\\n",
    "& g_i, x_{i,j}, z_i \\geq 0 & \\forall i,j \n",
    "& y_{i,j} \\in \\mathbb{B}\n",
    "\\end{align*}"
   ]
  },
  {
   "cell_type": "code",
   "execution_count": 1,
   "metadata": {},
   "outputs": [
    {
     "name": "stdout",
     "output_type": "stream",
     "text": [
      "generation - demand? (10): 0\n"
     ]
    }
   ],
   "source": [
    "# consumption (demand)\n",
    "d = [ 0, 50, 95, 10, 73, 55, 125, 32, 40, 20 ]\n",
    "# production (maximum generation)\n",
    "#gmax = [ 500, 0, 0, 500, 0, 0, 500, 0, 0, 0 ]\n",
    "gmax = [ 500, 0, 0, 0, 0, 0, 0, 0, 0, 0 ]\n",
    "N = len(d)\n",
    "NODES = range(N)\n",
    "print('generation - demand? (%d): %d' % (N, sum(gmax) - sum(d)))"
   ]
  },
  {
   "cell_type": "code",
   "execution_count": 2,
   "metadata": {},
   "outputs": [],
   "source": [
    "# capacity of the arcs\n",
    "ca = [ [10, 20, 30, 40, 50, 60, 70, 80, 90, 100],\n",
    "       [20, 30, 40, 50, 60, 70, 80, 90, 100, 10],\n",
    "       [30, 40, 50, 60, 70, 80, 90, 100, 10, 20],\n",
    "       [40, 50, 60, 70, 80, 90, 100, 10, 20, 30],\n",
    "       [50, 60, 70, 80, 90, 100, 10, 20, 30, 40],\n",
    "       [60, 70, 80, 90, 100, 10, 20, 30, 40, 50],\n",
    "       [70, 80, 90, 100, 10, 20, 30, 40, 50, 60],\n",
    "       [80, 90, 100, 10, 20, 30, 40, 50, 60, 70],\n",
    "       [90, 100, 10, 20, 30, 40, 50, 60, 70, 80],\n",
    "       [100, 10, 20, 30, 40, 50, 60, 70, 80, 90]\n",
    "     ]\n",
    "\n",
    "# linear variable cost: the cost of transporting one unit of gas\n",
    "vc = 1\n",
    "\n",
    "# unsatisfied demand: penalty for each unit of gas which is not consumed or produced\n",
    "p = 100\n",
    "\n",
    "# linear fixed cost: the cost of opening an arc is proportional to its capacity\n",
    "fc = [ [10 * c for c in row] for row in ca]\n"
   ]
  },
  {
   "cell_type": "code",
   "execution_count": null,
   "metadata": {},
   "outputs": [],
   "source": []
  },
  {
   "cell_type": "markdown",
   "metadata": {},
   "source": [
    "### Excercices\n",
    "\n",
    "#### 1. Formulate the Benders' master problem and sub-problem\n",
    "\n",
    "#### 2. Implement the Benders' decompostion\n",
    "\n",
    "#### First, implement the subproblem."
   ]
  },
  {
   "cell_type": "code",
   "execution_count": 3,
   "metadata": {},
   "outputs": [],
   "source": [
    "from docplex.mp.model import Model\n",
    "\n",
    "def benders_subproblem(y_sol):\n",
    "    mdl = Model(name='sub_problem')\n",
    "        \n",
    "    \n",
    "    return (mdl.objective_value,  # the objective value\n",
    "            const,  # the constant part of the benders' cut\n",
    "            coeffs)  # the coefficients of the benders' cut"
   ]
  },
  {
   "cell_type": "markdown",
   "metadata": {},
   "source": [
    "#### Try the function"
   ]
  },
  {
   "cell_type": "code",
   "execution_count": null,
   "metadata": {},
   "outputs": [],
   "source": [
    "benders_subproblem([[0]*size]*size)"
   ]
  },
  {
   "cell_type": "markdown",
   "metadata": {},
   "source": [
    "#### Second, implement the master problem\n",
    "\n",
    "Create a master problem without any cut and solve it."
   ]
  },
  {
   "cell_type": "code",
   "execution_count": null,
   "metadata": {},
   "outputs": [],
   "source": [
    "m_mdl = Model(name='master')\n",
    "iteration = 0\n",
    "\n"
   ]
  },
  {
   "cell_type": "markdown",
   "metadata": {},
   "source": [
    "#### Then, create the resolution loop that will:\n",
    "1. Solve the sub-problem with a solution\n",
    "2. Add the benders' cut to the master problem\n",
    "3. Solve the master problem"
   ]
  },
  {
   "cell_type": "code",
   "execution_count": null,
   "metadata": {},
   "outputs": [],
   "source": [
    "\n",
    "\n"
   ]
  }
 ],
 "metadata": {
  "kernelspec": {
   "display_name": "Python 3",
   "language": "python",
   "name": "python3"
  },
  "language_info": {
   "codemirror_mode": {
    "name": "ipython",
    "version": 3
   },
   "file_extension": ".py",
   "mimetype": "text/x-python",
   "name": "python",
   "nbconvert_exporter": "python",
   "pygments_lexer": "ipython3",
   "version": "3.7.7"
  }
 },
 "nbformat": 4,
 "nbformat_minor": 2
}
