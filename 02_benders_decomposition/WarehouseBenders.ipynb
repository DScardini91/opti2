{
 "cells": [
  {
   "cell_type": "markdown",
   "metadata": {},
   "source": [
    "# Warehouse Problem - Benders\n",
    "\n",
    "Let's recall the formulations.\n",
    "\n",
    "The MIP model is:\n",
    "\n",
    "\\begin{align*}\n",
    "\\min &\\qquad \\sum_w c_w x_w + \\sum_{w ,c} t_{w,c} y_{w,c} + \\sum_c M z_c & \\\\\n",
    "\\text{subject to:} &&\\\\\n",
    "&y_{w,c} \\leq x_w & \\forall w,c \\\\\n",
    "&\\sum_w y_{w,c} + z_c = 1 & \\forall c \\\\\n",
    "&\\sum_c y_{w,c} \\leq C_w  x_w & \\forall w \\\\\n",
    "&x_w, y_{w,c}, z_c \\in \\mathbb{B} & \\forall w,c\n",
    "\\end{align*}\n",
    "\n",
    "The Benders decomposition is:\n",
    "\n",
    "#### Master:\n",
    "\n",
    "\\begin{align*}\n",
    "\\min &\\qquad \\sum_w c_w x_w + \\theta & \\\\\n",
    "\\text{subject to:} && \\\\\n",
    "&\\theta \\geq \\sum_w (C_w \\gamma^n_w + \\sum_c \\alpha^n_{w,c}) x_w + \\sum_c \\beta^n_c & \\forall n \\\\\n",
    "&x_w \\in \\mathbb{B} & \\forall w,c \\\\\n",
    "&\\theta \\geq 0 &\n",
    "\\end{align*}\n",
    "\n",
    "#### Subproblem:\n",
    "\n",
    "\\begin{align*}\n",
    "\\min & \\qquad \\sum_{w ,c} t_{w,c} y_{w,c} + \\sum_c M z_c & \\\\\n",
    "\\text{subject to:} && \\\\\n",
    "&y_{w,c} \\leq x^n_w & \\forall w,c \\quad (\\alpha_{w,c}) \\\\\n",
    "&\\sum_w y_{w,c} + z_c = 1 & \\forall c \\quad (\\beta_c) \\\\\n",
    "&\\sum_c y_{w,c} \\leq C_w  x^n_w & \\forall w \\quad (\\gamma_w) \\\\\n",
    "&y_{w,c}, z_c \\geq 0 & \\forall w,c\n",
    "\\end{align*}"
   ]
  },
  {
   "cell_type": "code",
   "execution_count": null,
   "metadata": {},
   "outputs": [],
   "source": [
    "fixed = 30  # c_w (all the costs are the same)\n",
    "M = 10*fixed  # the penalty\n",
    "capacity = [1,4,2,1,3]  # the capacity of a warehouse\n",
    "supplyCost = [[20,24,11,25,30],  # t_{w,c}\n",
    "              [28,27,82,83,74],\n",
    "              [74,97,71,96,70],\n",
    "              [2,55,73,69,61],\n",
    "              [46,96,59,83,4],\n",
    "              [42,22,29,67,59],\n",
    "              [1,5,73,59,56],\n",
    "              [10,73,13,43,96],\n",
    "              [93,35,63,85,46],\n",
    "              [47,65,55,71,95]]\n",
    "nbStores = len(supplyCost)\n",
    "nbWarehouses = len(capacity)\n",
    "Stores = range(nbStores)\n",
    "Warehouses = range(nbWarehouses)"
   ]
  },
  {
   "cell_type": "markdown",
   "metadata": {},
   "source": [
    "### Excercices\n",
    "\n",
    "#### 1. Implement the subproblem."
   ]
  },
  {
   "cell_type": "code",
   "execution_count": null,
   "metadata": {},
   "outputs": [],
   "source": [
    "from docplex.mp.model import Model\n",
    "\n",
    "def benders_subproblem(x_sol=[0]*nbWarehouses):\n",
    "    mdl = Model(name='sub_problem')\n",
    "\n",
    "    \n",
    "\n",
    "    return (mdl.objective_value,  # the objective value\n",
    "            const,  # the constant part of the benders' cut\n",
    "            coeffs)  # the coefficients of the benders' cut"
   ]
  },
  {
   "cell_type": "markdown",
   "metadata": {},
   "source": [
    "#### Try the function"
   ]
  },
  {
   "cell_type": "code",
   "execution_count": null,
   "metadata": {},
   "outputs": [],
   "source": [
    "benders_subproblem()"
   ]
  },
  {
   "cell_type": "markdown",
   "metadata": {},
   "source": [
    "#### 2. Implement the master problem\n",
    "\n",
    "Create a master problem without any cut and solve it."
   ]
  },
  {
   "cell_type": "code",
   "execution_count": null,
   "metadata": {},
   "outputs": [],
   "source": [
    "m_mdl = Model(name='master')\n",
    "iteration = 0\n",
    "\n"
   ]
  },
  {
   "cell_type": "markdown",
   "metadata": {},
   "source": [
    "#### Then, create the resolution loop that will:\n",
    "1. Solve the master problem\n",
    "2. Solve the sub-problem with a solution\n",
    "3. Add the benders' cut to the master problem"
   ]
  },
  {
   "cell_type": "code",
   "execution_count": null,
   "metadata": {},
   "outputs": [],
   "source": [
    "\n",
    "\n"
   ]
  }
 ],
 "metadata": {
  "kernelspec": {
   "display_name": "Python 3",
   "language": "python",
   "name": "python3"
  },
  "language_info": {
   "codemirror_mode": {
    "name": "ipython",
    "version": 3
   },
   "file_extension": ".py",
   "mimetype": "text/x-python",
   "name": "python",
   "nbconvert_exporter": "python",
   "pygments_lexer": "ipython3",
   "version": "3.7.7"
  }
 },
 "nbformat": 4,
 "nbformat_minor": 2
}
